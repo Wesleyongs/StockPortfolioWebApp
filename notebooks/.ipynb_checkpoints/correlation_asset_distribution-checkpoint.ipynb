{
 "cells": [
  {
   "cell_type": "code",
   "execution_count": 1,
   "metadata": {},
   "outputs": [],
   "source": [
    "import pandas as pd\n",
    "import datetime as dt\n",
    "from pandas_datareader import data\n",
    "import numpy as np\n",
    "import matplotlib.pyplot as plt\n",
    "import seaborn as sns"
   ]
  },
  {
   "cell_type": "code",
   "execution_count": 3,
   "metadata": {},
   "outputs": [],
   "source": [
    "def correlation(positions_df):\n",
    "\n",
    "    #Yahoo finance\n",
    "    tickers = positions_df['stock'].tolist()\n",
    "    start_date = '2019-01-01'\n",
    "    end_date = '2021-11-04'\n",
    "    panel_data = data.DataReader(tickers,'yahoo', start_date, end_date)\n",
    "    panel_data= panel_data['Close']\n",
    "    ret_series= (panel_data.pct_change()+1).cumprod()-1\n",
    "    corr = ret_series.corr()\n",
    "    #print(corr)\n",
    "    \n",
    "    #Graph\n",
    "    fig, ax = plt.subplots(figsize=(16,10))\n",
    "    sns.heatmap(corr, annot = True, ax = ax, cmap=\"YlGnBu\")\n",
    "    \n",
    "    #Calcualte no of stock that are correlated \n",
    "    check = \"passed\"\n",
    "    length = len(tickers) #no of tickers\n",
    "    new = [] # list of correlation\n",
    "    for each in corr:\n",
    "        row = corr[each]\n",
    "        new.extend(row.tolist())\n",
    "    total = len(new)-length # total no of pairs\n",
    "    count = 0 #correlation >0.8\n",
    "    for i in new:\n",
    "        if(i >= 0.8):\n",
    "            count+=1\n",
    "    count = count-length\n",
    "    if count/total>=0.5:\n",
    "        check= \"failed\"\n",
    "        print(\"More than 50% of the stock that are highly positively correlated\")\n",
    "    else:\n",
    "        print(\"Less than 50% of your stock that are highly positively correlated\")\n",
    "    return check"
   ]
  },
  {
   "cell_type": "code",
   "execution_count": 6,
   "metadata": {},
   "outputs": [],
   "source": [
    "def asset_distribution(positions_df):\n",
    "    user_input = int(input(\"Enter percentage threshold of asset (in %):\"))\n",
    "    user_input = user_input/100 \n",
    "    total_assets = positions_df['qty']*positions_df['current_prices'] \n",
    "    assets = positions_df['stock'].tolist()\n",
    "    total = sum(total_assets) #total amount of assets\n",
    "    assets_percentage = []\n",
    "    # get the distribution of each asset\n",
    "    for asset in total_assets:\n",
    "        assets_percentage.append(asset/total)\n",
    "    # get asset which over the threshold\n",
    "    asset_overthreshold = []\n",
    "    asset_overthreshold_percentage = []\n",
    "    for i in range(len(assets)):\n",
    "        if assets_percentage[i] >= user_input:\n",
    "            asset_overthreshold.append(assets[i])\n",
    "            asset_overthreshold_percentage.append(assets_percentage[i])\n",
    "    # show result\n",
    "    check = \"passed\"\n",
    "    if len(asset_overthreshold)>0:\n",
    "        check=\"failed\"\n",
    "        print(\"Asset distribution is over the threshold\")\n",
    "        for n in range(len(asset_overthreshold)):\n",
    "            percentage = asset_overthreshold_percentage[n]*100\n",
    "            print(\"{}: {:.1f}%\".format(asset_overthreshold[n],percentage))\n",
    "    else:\n",
    "        print(\"Asset distribution is below the threshold\")\n",
    "    return check\n",
    "    "
   ]
  }
 ],
 "metadata": {
  "kernelspec": {
   "display_name": "Python 3",
   "language": "python",
   "name": "python3"
  },
  "language_info": {
   "codemirror_mode": {
    "name": "ipython",
    "version": 3
   },
   "file_extension": ".py",
   "mimetype": "text/x-python",
   "name": "python",
   "nbconvert_exporter": "python",
   "pygments_lexer": "ipython3",
   "version": "3.8.5"
  },
  "toc": {
   "base_numbering": 1,
   "nav_menu": {},
   "number_sections": true,
   "sideBar": true,
   "skip_h1_title": false,
   "title_cell": "Table of Contents",
   "title_sidebar": "Contents",
   "toc_cell": false,
   "toc_position": {},
   "toc_section_display": true,
   "toc_window_display": false
  },
  "varInspector": {
   "cols": {
    "lenName": 16,
    "lenType": 16,
    "lenVar": 40
   },
   "kernels_config": {
    "python": {
     "delete_cmd_postfix": "",
     "delete_cmd_prefix": "del ",
     "library": "var_list.py",
     "varRefreshCmd": "print(var_dic_list())"
    },
    "r": {
     "delete_cmd_postfix": ") ",
     "delete_cmd_prefix": "rm(",
     "library": "var_list.r",
     "varRefreshCmd": "cat(var_dic_list()) "
    }
   },
   "types_to_exclude": [
    "module",
    "function",
    "builtin_function_or_method",
    "instance",
    "_Feature"
   ],
   "window_display": false
  }
 },
 "nbformat": 4,
 "nbformat_minor": 5
}
