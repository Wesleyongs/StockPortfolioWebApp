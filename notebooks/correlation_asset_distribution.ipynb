{
 "cells": [
  {
   "cell_type": "code",
   "execution_count": 1,
   "id": "59936974",
   "metadata": {},
   "outputs": [],
   "source": [
    "import pandas as pd\n",
    "import datetime as dt\n",
    "from pandas_datareader import data\n",
    "import numpy as np\n",
    "import matplotlib.pyplot as plt\n",
    "import seaborn as sns"
   ]
  },
  {
   "cell_type": "code",
   "execution_count": 2,
   "id": "aed70b5f",
   "metadata": {},
   "outputs": [
    {
     "data": {
      "text/html": [
       "<div>\n",
       "<style scoped>\n",
       "    .dataframe tbody tr th:only-of-type {\n",
       "        vertical-align: middle;\n",
       "    }\n",
       "\n",
       "    .dataframe tbody tr th {\n",
       "        vertical-align: top;\n",
       "    }\n",
       "\n",
       "    .dataframe thead th {\n",
       "        text-align: right;\n",
       "    }\n",
       "</style>\n",
       "<table border=\"1\" class=\"dataframe\">\n",
       "  <thead>\n",
       "    <tr style=\"text-align: right;\">\n",
       "      <th></th>\n",
       "      <th>stock</th>\n",
       "      <th>qty</th>\n",
       "      <th>price</th>\n",
       "      <th>current_prices</th>\n",
       "      <th>P&amp;L</th>\n",
       "    </tr>\n",
       "  </thead>\n",
       "  <tbody>\n",
       "    <tr>\n",
       "      <th>0</th>\n",
       "      <td>AAPL</td>\n",
       "      <td>15</td>\n",
       "      <td>126.67</td>\n",
       "      <td>146.92</td>\n",
       "      <td>304</td>\n",
       "    </tr>\n",
       "    <tr>\n",
       "      <th>1</th>\n",
       "      <td>TSLA</td>\n",
       "      <td>18</td>\n",
       "      <td>711.11</td>\n",
       "      <td>774.39</td>\n",
       "      <td>1139</td>\n",
       "    </tr>\n",
       "    <tr>\n",
       "      <th>2</th>\n",
       "      <td>SPY</td>\n",
       "      <td>10</td>\n",
       "      <td>300.00</td>\n",
       "      <td>443.91</td>\n",
       "      <td>1439</td>\n",
       "    </tr>\n",
       "  </tbody>\n",
       "</table>\n",
       "</div>"
      ],
      "text/plain": [
       "  stock  qty   price  current_prices   P&L\n",
       "0  AAPL   15  126.67          146.92   304\n",
       "1  TSLA   18  711.11          774.39  1139\n",
       "2   SPY   10  300.00          443.91  1439"
      ]
     },
     "execution_count": 2,
     "metadata": {},
     "output_type": "execute_result"
    }
   ],
   "source": [
    "positions_df = pd.read_csv(\"portfolio.csv\")\n",
    "positions_df"
   ]
  },
  {
   "cell_type": "markdown",
   "id": "38c86dcc",
   "metadata": {},
   "source": [
    "# Correlation"
   ]
  },
  {
   "cell_type": "code",
   "execution_count": 3,
   "id": "5fc323bf",
   "metadata": {},
   "outputs": [],
   "source": [
    "def correlation(positions_df):\n",
    "\n",
    "    #Yahoo finance\n",
    "    tickers = positions_df['stock'].tolist()\n",
    "    start_date = '2019-01-01'\n",
    "    end_date = '2021-11-04'\n",
    "    panel_data = data.DataReader(tickers,'yahoo', start_date, end_date)\n",
    "    panel_data= panel_data['Close']\n",
    "    ret_series= (panel_data.pct_change()+1).cumprod()-1\n",
    "    corr = ret_series.corr()\n",
    "    #print(corr)\n",
    "    \n",
    "    #Graph\n",
    "    fig, ax = plt.subplots(figsize=(16,10))\n",
    "    sns.heatmap(corr, annot = True, ax = ax, cmap=\"YlGnBu\")\n",
    "    \n",
    "    #Calcualte no of stock that are correlated \n",
    "    check = \"passed\"\n",
    "    length = len(tickers) #no of tickers\n",
    "    new = [] # list of correlation\n",
    "    for each in corr:\n",
    "        row = corr[each]\n",
    "        new.extend(row.tolist())\n",
    "    total = len(new)-length # total no of pairs\n",
    "    count = 0 #correlation >0.8\n",
    "    for i in new:\n",
    "        if(i >= 0.8):\n",
    "            count+=1\n",
    "    count = count-length\n",
    "    if count/total>=0.5:\n",
    "        check= \"failed\"\n",
    "        print(\"More than 50% of the stock that are highly positively correlated\")\n",
    "    else:\n",
    "        print(\"Less than 50% of your stock that are highly positively correlated\")\n",
    "    return check"
   ]
  },
  {
   "cell_type": "code",
   "execution_count": 4,
   "id": "50972599",
   "metadata": {},
   "outputs": [
    {
     "name": "stdout",
     "output_type": "stream",
     "text": [
      "More than 50% of the stock that are highly positively correlated\n"
     ]
    },
    {
     "data": {
      "image/png": "[encoded data removed]",
      "text/plain": [
       "<Figure size 1152x720 with 2 Axes>"
      ]
     },
     "metadata": {
      "needs_background": "light"
     },
     "output_type": "display_data"
    }
   ],
   "source": [
    "a=correlation(positions_df)"
   ]
  },
  {
   "cell_type": "code",
   "execution_count": 5,
   "id": "75c3ab40",
   "metadata": {},
   "outputs": [
    {
     "name": "stdout",
     "output_type": "stream",
     "text": [
      "failed\n"
     ]
    }
   ],
   "source": [
    "print(a)"
   ]
  },
  {
   "cell_type": "markdown",
   "id": "7c1b2268",
   "metadata": {},
   "source": [
    "# Asset distribution"
   ]
  },
  {
   "cell_type": "code",
   "execution_count": 6,
   "id": "933e9a75",
   "metadata": {},
   "outputs": [],
   "source": [
    "def asset_distribution(positions_df):\n",
    "    user_input = int(input(\"Enter percentage threshold of asset (in %):\"))\n",
    "    user_input = user_input/100 \n",
    "    total_assets = positions_df['qty']*positions_df['current_prices'] \n",
    "    assets = positions_df['stock'].tolist()\n",
    "    total = sum(total_assets) #total amount of assets\n",
    "    assets_percentage = []\n",
    "    # get the distribution of each asset\n",
    "    for asset in total_assets:\n",
    "        assets_percentage.append(asset/total)\n",
    "    # get asset which over the threshold\n",
    "    asset_overthreshold = []\n",
    "    asset_overthreshold_percentage = []\n",
    "    for i in range(len(assets)):\n",
    "        if assets_percentage[i] >= user_input:\n",
    "            asset_overthreshold.append(assets[i])\n",
    "            asset_overthreshold_percentage.append(assets_percentage[i])\n",
    "    # show result\n",
    "    check = \"passed\"\n",
    "    if len(asset_overthreshold)>0:\n",
    "        check=\"failed\"\n",
    "        print(\"Asset distribution is over the threshold\")\n",
    "        for n in range(len(asset_overthreshold)):\n",
    "            percentage = asset_overthreshold_percentage[n]*100\n",
    "            print(\"{}: {:.1f}%\".format(asset_overthreshold[n],percentage))\n",
    "    else:\n",
    "        print(\"Asset distribution is below the threshold\")\n",
    "    return check\n",
    "    "
   ]
  },
  {
   "cell_type": "code",
   "execution_count": 7,
   "id": "9c37c54f",
   "metadata": {},
   "outputs": [
    {
     "name": "stdout",
     "output_type": "stream",
     "text": [
      "Enter percentage threshold of asset (in %):20\n",
      "Asset distribution is over the threshold\n",
      "TSLA: 67.7%\n",
      "SPY: 21.6%\n"
     ]
    }
   ],
   "source": [
    "b = asset_distribution(positions_df)"
   ]
  },
  {
   "cell_type": "code",
   "execution_count": 8,
   "id": "a2d0f21e",
   "metadata": {},
   "outputs": [
    {
     "name": "stdout",
     "output_type": "stream",
     "text": [
      "failed\n"
     ]
    }
   ],
   "source": [
    "print(b)"
   ]
  },
  {
   "cell_type": "code",
   "execution_count": null,
   "id": "eee067f0",
   "metadata": {},
   "outputs": [],
   "source": []
  },
  {
   "cell_type": "code",
   "execution_count": null,
   "id": "26511385",
   "metadata": {},
   "outputs": [],
   "source": []
  }
 ],
 "metadata": {
  "kernelspec": {
   "display_name": "Python 3",
   "language": "python",
   "name": "python3"
  },
  "language_info": {
   "codemirror_mode": {
    "name": "ipython",
    "version": 3
   },
   "file_extension": ".py",
   "mimetype": "text/x-python",
   "name": "python",
   "nbconvert_exporter": "python",
   "pygments_lexer": "ipython3",
   "version": "3.8.8"
  }
 },
 "nbformat": 4,
 "nbformat_minor": 5
}
